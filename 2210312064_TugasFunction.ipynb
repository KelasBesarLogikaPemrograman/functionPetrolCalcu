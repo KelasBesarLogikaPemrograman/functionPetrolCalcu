{
 "cells": [
  {
   "cell_type": "code",
   "execution_count": 2,
   "metadata": {},
   "outputs": [
    {
     "name": "stdout",
     "output_type": "stream",
     "text": [
      "Selamat datang di SPBU UPNVJ FT\n",
      "('M Zidane', '081223344556', 'HRD')\n",
      "['Pertalait', 'Pertameks', 'Selar']\n",
      "('Alphard', 12.1004)\n",
      "145204.80000000002 a\n",
      "M Zidane telah membeli tipe bbm Pertameks seharga 12000 dengan total belanja 145204.80000000002 rupiah\n",
      "\n",
      "\n",
      "Recursion Example Results\n",
      "54795.19999999998\n"
     ]
    },
    {
     "data": {
      "text/plain": [
       "54795.19999999998"
      ]
     },
     "execution_count": 2,
     "metadata": {},
     "output_type": "execute_result"
    }
   ],
   "source": [
    "def pengenalan_function() :\n",
    "    print (\"Selamat datang di SPBU UPNVJ FT\")\n",
    "#mmeanggil fungsi untuk dapat  dijalankan\n",
    "pengenalan_function()\n",
    "#masukkan data nama pembeli yang meliputi (nama,nomerHape, pekerjaan) \n",
    "def identitas_pembeli(nama, nomerHP,pekerjaan):\n",
    "   return (nama, nomerHP,pekerjaan)\n",
    "\n",
    "biodata_pembeli = identitas_pembeli(\"M Zidane\",\"081223344556\",\"HRD\")\n",
    "print (biodata_pembeli)\n",
    "#Diketahui terdapat jenis bahan bakar yang dapat diisi (pertalait, pertameks, dan selar)\n",
    "def jenis_bbm(bbm):\n",
    "    for x, in bbm:\n",
    "        print(x),\n",
    "\n",
    "#masukkan data bbm\n",
    "tipe_bbm =[\"Pertalait\", \"Pertameks\", \"Selar\"]\n",
    "print (tipe_bbm)\n",
    "\n",
    "#harga untuk pertalait = 10000, pertamek = 12000, selar = 5000\n",
    "pertalait = 10000\n",
    "pertameks =  12000\n",
    "selar = 5000\n",
    "\n",
    "#buatlah sebuah  fungsi yang mengidentifikasi jenis mobil pemberli dan jumlah liter kebutuhan\n",
    "\n",
    "def jenis_mobil (nama_brand,jumlah_liter):\n",
    "    return (nama_brand,jumlah_liter)\n",
    "\n",
    "#panggil fyungsi jenis_mobil\n",
    "identifikasi_kendaraan = jenis_mobil(\"Alphard\", 12.1004)\n",
    "print (identifikasi_kendaraan)\n",
    "\n",
    "def hitung_biaya_bbm(liter, harga):\n",
    "    #rumus\n",
    "    total_biaya = liter*harga\n",
    "    return total_biaya\n",
    "\n",
    "#panggil fungsi hitung biaya\n",
    "total_belanja = hitung_biaya_bbm(identifikasi_kendaraan[(1)], pertameks)\n",
    "\n",
    "print (total_belanja, \"a\")\n",
    "\n",
    "# print dengan contoh output yudi  telah membeli tipe bbm selar seharga  12000 dengan total belanja 360000 rupiah\n",
    "nama_orang = biodata_pembeli[0]\n",
    "bbm = tipe_bbm[1]\n",
    "print (nama_orang, \"telah membeli tipe bbm\" ,bbm, \"seharga\", pertameks, \"dengan total belanja\", total_belanja, \"rupiah\")\n",
    "\n",
    "#lakukan pembelajaan jika pembeli memiliki uang senilai tertentu lalu hitunglah sampai habis uangnya untuk dibelanjakan\n",
    "#gunakan recursion\n",
    "def belanja(uang):\n",
    "  if(uang >= total_belanja):\n",
    "    sisa_uang = uang - total_belanja\n",
    "    belanja (sisa_uang)\n",
    "    print(sisa_uang)\n",
    "  else:\n",
    "    sisa_uang = 0\n",
    "  return sisa_uang\n",
    "print(\"\\n\\nRecursion Example Results\")\n",
    "belanja(200000)\n",
    "#output jika uang 720000 dan total_belanja 360000\n",
    "#0\n",
    "#360000"
   ]
  }
 ],
 "metadata": {
  "kernelspec": {
   "display_name": "Python 3.8.10 64-bit (microsoft store)",
   "language": "python",
   "name": "python3"
  },
  "language_info": {
   "codemirror_mode": {
    "name": "ipython",
    "version": 3
   },
   "file_extension": ".py",
   "mimetype": "text/x-python",
   "name": "python",
   "nbconvert_exporter": "python",
   "pygments_lexer": "ipython3",
   "version": "3.8.10"
  },
  "orig_nbformat": 4,
  "vscode": {
   "interpreter": {
    "hash": "11443861fa29e3835a64bfaf3bf6f3b5f080cc1b67255fe51e6c7fc8c47e86eb"
   }
  }
 },
 "nbformat": 4,
 "nbformat_minor": 2
}
