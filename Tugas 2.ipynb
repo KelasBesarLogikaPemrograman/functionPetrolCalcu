{
  "metadata": {
    "language_info": {
      "codemirror_mode": {
        "name": "python",
        "version": 3
      },
      "file_extension": ".py",
      "mimetype": "text/x-python",
      "name": "python",
      "nbconvert_exporter": "python",
      "pygments_lexer": "ipython3",
      "version": "3.8"
    },
    "kernelspec": {
      "name": "python",
      "display_name": "Python (Pyodide)",
      "language": "python"
    }
  },
  "nbformat_minor": 4,
  "nbformat": 4,
  "cells": [
    {
      "cell_type": "code",
      "source": "def pengenalan_function() :\n    print (\"Selamat datang di SPBU UPNVJ FT\")\n#mmeanggil fungsi untuk dapat  dijalankan\n\"Selamat datang di SPBU UPNVJ FT\"",
      "metadata": {
        "trusted": true
      },
      "execution_count": 5,
      "outputs": [
        {
          "execution_count": 5,
          "output_type": "execute_result",
          "data": {
            "text/plain": "'Selamat datang di SPBU UPNVJ FT'"
          },
          "metadata": {}
        }
      ]
    },
    {
      "cell_type": "code",
      "source": "#masukkan data nama pembeli yang meliputi (nama,nomerHape, pekerjaan) \ndef identitas_pembeli(nama,nomor_hape,pekerjaan):\n   return ()\n\nbiodata_pembeli = identitas_pembeli\nbiodata_pembeli = (\"Aura\", \"089519602527\", \"Pelajar\")\nprint (biodata_pembeli)",
      "metadata": {
        "trusted": true
      },
      "execution_count": 9,
      "outputs": [
        {
          "name": "stdout",
          "text": "('Aura', '089519602527', 'Pelajar')\n",
          "output_type": "stream"
        }
      ]
    },
    {
      "cell_type": "code",
      "source": "#Diketahui terdapat jenis bahan bakar yang dapat diisi (pertalait, pertameks, dan selar)\ndef jenis_bbm(bbm):\n    for x, in bbm:\n        print(x),\n\n#masukkan data bbm\ntipe_bbm =[\"pertalait\", \"pertameks\", \"selar\"]\nprint(tipe_bbm)",
      "metadata": {
        "trusted": true
      },
      "execution_count": 8,
      "outputs": [
        {
          "name": "stdout",
          "text": "['pertalait', 'pertameks', 'selar']\n",
          "output_type": "stream"
        }
      ]
    },
    {
      "cell_type": "code",
      "source": "#harga untuk pertalait = 10000, pertamek = 12000, selar = 5000\npertalait = 10000\npertameks = 12000\nselar = 5000\n\ndef jenis_mobil (nama_brand,jumlah_liter):\n    return ()\nmobil1 = \"suf\" , 20\nmobil2= \"avansa\" , 30\n\n#panggil fyungsi jenis_mobil\nidentifikasi_kendaraan = jenis_mobil\nprint(mobil1)",
      "metadata": {
        "trusted": true
      },
      "execution_count": 18,
      "outputs": [
        {
          "name": "stdout",
          "text": "('suf', 20)\n",
          "output_type": "stream"
        }
      ]
    },
    {
      "cell_type": "code",
      "source": "def hitung_biaya_bbm(liter, harga):\n    #rumus\n   return ()\n\n#panggil fungsi hitung biaya\ntotal_belanja = hitung_biaya_bbm()\n\nprint (liter * harga ) \nprint (total_belanja / \"a\") #harga bbm",
      "metadata": {
        "trusted": true
      },
      "execution_count": 34,
      "outputs": [
        {
          "ename": "<class 'TypeError'>",
          "evalue": "hitung_biaya_bbm() missing 2 required positional arguments: 'liter' and 'harga'",
          "traceback": [
            "\u001b[0;31m---------------------------------------------------------------------------\u001b[0m",
            "\u001b[0;31mTypeError\u001b[0m                                 Traceback (most recent call last)",
            "Cell \u001b[0;32mIn [31], line 6\u001b[0m\n\u001b[1;32m      3\u001b[0m    \u001b[38;5;28;01mreturn\u001b[39;00m ()\n\u001b[1;32m      5\u001b[0m \u001b[38;5;66;03m#panggil fungsi hitung biaya\u001b[39;00m\n\u001b[0;32m----> 6\u001b[0m total_belanja \u001b[38;5;241m=\u001b[39m \u001b[43mhitung_biaya_bbm\u001b[49m\u001b[43m(\u001b[49m\u001b[43m)\u001b[49m\n\u001b[1;32m      8\u001b[0m \u001b[38;5;28mprint\u001b[39m (total_belanja \u001b[38;5;241m/\u001b[39m \u001b[38;5;124m\"\u001b[39m\u001b[38;5;124ma\u001b[39m\u001b[38;5;124m\"\u001b[39m)\n",
            "\u001b[0;31mTypeError\u001b[0m: hitung_biaya_bbm() missing 2 required positional arguments: 'liter' and 'harga'"
          ],
          "output_type": "error"
        }
      ]
    },
    {
      "cell_type": "code",
      "source": "# print dengan contoh output yudi  telah membeli tipe bbm selar seharga  12000 dengan total belanja 360000 rupiah\nharga = 12000\ntotal_belanja = 360000\nprint (total_belanja / harga)",
      "metadata": {
        "trusted": true
      },
      "execution_count": 35,
      "outputs": [
        {
          "name": "stdout",
          "text": "30.0\n",
          "output_type": "stream"
        }
      ]
    },
    {
      "cell_type": "code",
      "source": "#lakukan pembelajaan jika pembeli memiliki uang senilai tertentu lalu hitunglah sampai habis uangnya untuk dibelanjakan\n#gunakan recursion\ndef belanja(uang):\n  if(uang >= total_belanja): \n    sisa_uang = \"total_belanja\" - \"uang\"\n    belanja (sisa_uang)\n    print(sisa_uang)\n  else:\n    sisa_uang = 0\n  return sisa_uang\n\nuang = 720000\ntotal_belanja = 360000\n\nprint(sisa_uang)\n\n#output jika uang 720000 dan total_belanja 360000\n#0\n#360000",
      "metadata": {
        "trusted": true
      },
      "execution_count": 60,
      "outputs": [
        {
          "name": "stdout",
          "text": "360000\n",
          "output_type": "stream"
        }
      ]
    },
    {
      "cell_type": "code",
      "source": "",
      "metadata": {},
      "execution_count": null,
      "outputs": []
    }
  ]
}