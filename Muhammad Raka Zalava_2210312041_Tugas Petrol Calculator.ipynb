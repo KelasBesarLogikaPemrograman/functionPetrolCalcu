{
 "cells": [
  {
   "cell_type": "code",
   "execution_count": 19,
   "metadata": {},
   "outputs": [
    {
     "name": "stdout",
     "output_type": "stream",
     "text": [
      "Selamat datang di SPBU UPNVJ FT\n",
      "('Muhammad Raka Zalava', '081888888888', 'Mahasiswa')\n",
      "['pertalait', 'pertameks', 'selar']\n",
      "('Honda', 60)\n",
      "720000 a\n",
      "Muhammad Raka Zalava telah membeli tipe bbm pertameks seharga 12000 dengan total belanja 720000 rupiah\n",
      "\n",
      "\n",
      "Recursion Example Results\n",
      "280000\n"
     ]
    },
    {
     "data": {
      "text/plain": [
       "280000"
      ]
     },
     "execution_count": 19,
     "metadata": {},
     "output_type": "execute_result"
    }
   ],
   "source": [
    "#PETROL CALCULATOR\n",
    "\n",
    "def pengenalan_function() :\n",
    "    print (\"Selamat datang di SPBU UPNVJ FT\")\n",
    "#mmeanggil fungsi untuk dapat  dijalankan\n",
    "pengenalan_function()\n",
    "\n",
    "\n",
    "#masukkan data nama pembeli yang meliputi (nama,nomerHape, pekerjaan) \n",
    "def identitas_pembeli(nama,nomor_hape,pekerjaan):\n",
    "   return (nama,nomor_hape,pekerjaan)\n",
    "\n",
    "biodata_pembeli = identitas_pembeli(\"Muhammad Raka Zalava\", \"081888888888\", \"Mahasiswa\")\n",
    "print (biodata_pembeli)\n",
    "\n",
    "#Diketahui terdapat jenis bahan bakar yang dapat diisi (pertalait, pertameks, dan selar)\n",
    "def jenis_bbm(bbm):\n",
    "    for x, in bbm:\n",
    "        print(x),\n",
    "\n",
    "#masukkan data bbm\n",
    "tipe_bbm =[\"pertalait\", \"pertameks\", \"selar\"]\n",
    "print (tipe_bbm)\n",
    "\n",
    "#harga untuk pertalait = 10000, pertamek = 12000, selar = 5000\n",
    "pertalait = 10000\n",
    "pertameks =  12000\n",
    "selar = 5000\n",
    "\n",
    "#buatlah sebuah  fungsi yang mengidentifikasi jenis mobil pemberli dan jumlah liter kebutuhan\n",
    "\n",
    "def jenis_mobil (nama_brand,jumlah_liter):\n",
    "    return (nama_brand,jumlah_liter)\n",
    "\n",
    "#panggil fungsi jenis_mobil\n",
    "identifikasi_kendaraan = jenis_mobil(\"Honda\", 60)\n",
    "print (identifikasi_kendaraan)\n",
    "\n",
    "def hitung_biaya_bbm(liter, harga):\n",
    "    #rumus\n",
    "    biaya_bbm = liter * harga\n",
    "    return (biaya_bbm)\n",
    "\n",
    "#panggil fungsi hitung biaya\n",
    "total_belanja = hitung_biaya_bbm(identifikasi_kendaraan[1], pertameks)\n",
    "\n",
    "print (total_belanja, \"a\")\n",
    "\n",
    "# print dengan contoh output yudi telah membeli tipe bbm selar seharga 12000 dengan total belanja 360000 rupiah\n",
    "nama = biodata_pembeli[0]\n",
    "bbm = tipe_bbm[1]\n",
    "print (nama, \"telah membeli tipe bbm\", bbm, \"seharga\", pertameks, \"dengan total belanja\", total_belanja, \"rupiah\")\n",
    "\n",
    "#lakukan pembelajaan jika pembeli memiliki uang senilai tertentu lalu hitunglah sampai habis uangnya untuk dibelanjakan\n",
    "#gunakan recursion\n",
    "def belanja(uang):\n",
    "  if(uang >= total_belanja):\n",
    "    sisa_uang = uang - total_belanja\n",
    "    belanja (sisa_uang)\n",
    "    print(sisa_uang)\n",
    "  else:\n",
    "    sisa_uang = 0\n",
    "  return sisa_uang\n",
    "\n",
    "print(\"\\n\\nRecursion Example Results\")\n",
    "belanja(1000000)\n",
    "#output jika uang 720000 dan total_belanja 360000\n",
    "#0\n",
    "#360000"
   ]
  }
 ],
 "metadata": {
  "kernelspec": {
   "display_name": "Python 3.10.7 64-bit",
   "language": "python",
   "name": "python3"
  },
  "language_info": {
   "codemirror_mode": {
    "name": "ipython",
    "version": 3
   },
   "file_extension": ".py",
   "mimetype": "text/x-python",
   "name": "python",
   "nbconvert_exporter": "python",
   "pygments_lexer": "ipython3",
   "version": "3.10.7"
  },
  "orig_nbformat": 4,
  "vscode": {
   "interpreter": {
    "hash": "16ea4d449b5fa2e93563f2348539353d9a296ca802f2dee2cbf30873b686a06d"
   }
  }
 },
 "nbformat": 4,
 "nbformat_minor": 2
}
